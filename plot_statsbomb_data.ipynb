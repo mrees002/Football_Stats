{
 "cells": [
  {
   "cell_type": "code",
   "execution_count": null,
   "metadata": {},
   "outputs": [],
   "source": [
    "%matplotlib inline"
   ]
  },
  {
   "cell_type": "markdown",
   "metadata": {},
   "source": [
    "\n",
    "# StatsBomb\n",
    "\n",
    "mplsoccer contains functions to return StatsBomb data in a flat, tidy dataframe.\n",
    "However, if you want to flatten the json into a dictionary you can also set ``dataframe=False``.\n",
    "\n",
    "Please be responsible with Statsbomb data.\n",
    "[Register your details](https://www.statsbomb.com/resource-centre) and\n",
    "read the user agreement carefully (on the same page).\n",
    "\n",
    "It can be used with the StatBomb [open-data](https://github.com/statsbomb/open-data)\n",
    "or the StatsBomb API if you are lucky enough to have access:\n",
    "\n",
    "StatsBomb API:\n",
    "\n",
    "```python\n",
    "# this only works if you have access\n",
    "# to the StatsBomb API and assumes\n",
    "# you have set the environmental\n",
    "# variables SB_USERNAME\n",
    "# and SB_PASSWORD\n",
    "# otherwise pass the arguments:\n",
    "# parser = Sbapi(username='changeme',\n",
    "# password='changeme')\n",
    "from mplsoccer import Sbapi\n",
    "parser = Sbapi(dataframe=True)\n",
    "(events, related,\n",
    "freeze, tactics) = parser.event(3788741)\n",
    "```\n",
    "StatsBomb local data:\n",
    "\n",
    "```python\n",
    "from mplsoccer import Sblocal\n",
    "parser = Sblocal(dataframe=True)\n",
    "(events, related,\n",
    "freeze, tactics) = parser.event(3788741)\n",
    "```\n",
    "Here are some alternatives to mplsoccer's statsbomb module:\n",
    "\n",
    "- [statsbombapi](https://github.com/Torvaney/statsbombapi)\n",
    "- [statsbombpy](https://github.com/statsbomb/statsbombpy)\n",
    "- [statsbomb-parser](https://github.com/imrankhan17/statsbomb-parser)\n"
   ]
  },
  {
   "cell_type": "code",
   "execution_count": null,
   "metadata": {},
   "outputs": [],
   "source": [
    "from mplsoccer import Sbopen\n",
    "\n",
    "# instantiate a parser object\n",
    "parser = Sbopen()"
   ]
  },
  {
   "cell_type": "markdown",
   "metadata": {},
   "source": [
    "## Competition data\n",
    "Get the competition data as a dataframe\n",
    "\n"
   ]
  },
  {
   "cell_type": "code",
   "execution_count": null,
   "metadata": {},
   "outputs": [],
   "source": [
    "df_competition = parser.competition()\n",
    "df_competition.info()"
   ]
  },
  {
   "cell_type": "markdown",
   "metadata": {},
   "source": [
    "## Match data\n",
    "Get the match data as a dataframe\n",
    "Note there is a mismatch between the length of this file\n",
    "and the number of event files because some event files don't have match data in the open-data.\n",
    "\n"
   ]
  },
  {
   "cell_type": "code",
   "execution_count": null,
   "metadata": {},
   "outputs": [],
   "source": [
    "df_match = parser.match(competition_id=11, season_id=1)\n",
    "df_match.info()"
   ]
  },
  {
   "cell_type": "markdown",
   "metadata": {},
   "source": [
    "## Lineup data\n",
    "\n"
   ]
  },
  {
   "cell_type": "code",
   "execution_count": null,
   "metadata": {},
   "outputs": [],
   "source": [
    "df_lineup = parser.lineup(7478)\n",
    "df_lineup.info()"
   ]
  },
  {
   "cell_type": "markdown",
   "metadata": {},
   "source": [
    "## Event data\n",
    "\n"
   ]
  },
  {
   "cell_type": "code",
   "execution_count": null,
   "metadata": {},
   "outputs": [],
   "source": [
    "df_event, df_related, df_freeze, df_tactics = parser.event(7478)\n",
    "\n",
    "# exploring the data\n",
    "df_event.info()\n",
    "df_related.info()\n",
    "df_freeze.info()\n",
    "df_tactics.info()"
   ]
  },
  {
   "cell_type": "markdown",
   "metadata": {},
   "source": [
    "## 360 data\n",
    "\n"
   ]
  },
  {
   "cell_type": "code",
   "execution_count": null,
   "metadata": {},
   "outputs": [],
   "source": [
    "df_frame, df_visible = parser.frame(3788741)\n",
    "\n",
    "# exploring the data\n",
    "df_frame.info()\n",
    "df_visible.info()"
   ]
  }
 ],
 "metadata": {
  "kernelspec": {
   "display_name": "Python 3 (ipykernel)",
   "language": "python",
   "name": "python3"
  },
  "language_info": {
   "codemirror_mode": {
    "name": "ipython",
    "version": 3
   },
   "file_extension": ".py",
   "mimetype": "text/x-python",
   "name": "python",
   "nbconvert_exporter": "python",
   "pygments_lexer": "ipython3",
   "version": "3.9.13"
  }
 },
 "nbformat": 4,
 "nbformat_minor": 1
}
