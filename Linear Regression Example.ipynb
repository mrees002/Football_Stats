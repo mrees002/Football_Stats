{
 "cells": [
  {
   "cell_type": "code",
   "execution_count": 2,
   "id": "8725353a",
   "metadata": {},
   "outputs": [],
   "source": [
    "import numpy as np\n",
    "import pandas as pd\n",
    "import matplotlib.pyplot as plt\n",
    "\n",
    "from sklearn.linear_model import LinearRegression"
   ]
  },
  {
   "cell_type": "code",
   "execution_count": 3,
   "id": "d92afb9e",
   "metadata": {},
   "outputs": [],
   "source": [
    "df = pd.read_csv('1995_96 - 2020 Premier league standings.csv')"
   ]
  },
  {
   "cell_type": "code",
   "execution_count": 5,
   "id": "b51fdf30",
   "metadata": {},
   "outputs": [],
   "source": [
    "df['GD'] = df['GF'] - df['GA']"
   ]
  },
  {
   "cell_type": "code",
   "execution_count": 7,
   "id": "02306723",
   "metadata": {},
   "outputs": [
    {
     "data": {
      "text/html": [
       "<div>\n",
       "<style scoped>\n",
       "    .dataframe tbody tr th:only-of-type {\n",
       "        vertical-align: middle;\n",
       "    }\n",
       "\n",
       "    .dataframe tbody tr th {\n",
       "        vertical-align: top;\n",
       "    }\n",
       "\n",
       "    .dataframe thead th {\n",
       "        text-align: right;\n",
       "    }\n",
       "</style>\n",
       "<table border=\"1\" class=\"dataframe\">\n",
       "  <thead>\n",
       "    <tr style=\"text-align: right;\">\n",
       "      <th></th>\n",
       "      <th>Rk</th>\n",
       "      <th>Squad</th>\n",
       "      <th>MP</th>\n",
       "      <th>W</th>\n",
       "      <th>D</th>\n",
       "      <th>L</th>\n",
       "      <th>GF</th>\n",
       "      <th>GA</th>\n",
       "      <th>Pts</th>\n",
       "      <th>Attendance</th>\n",
       "      <th>Top Team Scorer</th>\n",
       "      <th>Goalkeeper</th>\n",
       "      <th>Year</th>\n",
       "      <th>GD</th>\n",
       "    </tr>\n",
       "  </thead>\n",
       "  <tbody>\n",
       "    <tr>\n",
       "      <th>0</th>\n",
       "      <td>1</td>\n",
       "      <td>Manchester Utd</td>\n",
       "      <td>38</td>\n",
       "      <td>25</td>\n",
       "      <td>7</td>\n",
       "      <td>6</td>\n",
       "      <td>73</td>\n",
       "      <td>35</td>\n",
       "      <td>82</td>\n",
       "      <td>41001</td>\n",
       "      <td>Eric Cantona - 14</td>\n",
       "      <td>Peter Schmeichel</td>\n",
       "      <td>1996</td>\n",
       "      <td>38</td>\n",
       "    </tr>\n",
       "    <tr>\n",
       "      <th>1</th>\n",
       "      <td>2</td>\n",
       "      <td>Newcastle Utd</td>\n",
       "      <td>38</td>\n",
       "      <td>24</td>\n",
       "      <td>6</td>\n",
       "      <td>8</td>\n",
       "      <td>66</td>\n",
       "      <td>37</td>\n",
       "      <td>78</td>\n",
       "      <td>36501</td>\n",
       "      <td>Les Ferdinand - 25</td>\n",
       "      <td>Shaka Hislop</td>\n",
       "      <td>1996</td>\n",
       "      <td>29</td>\n",
       "    </tr>\n",
       "    <tr>\n",
       "      <th>2</th>\n",
       "      <td>3</td>\n",
       "      <td>Liverpool</td>\n",
       "      <td>38</td>\n",
       "      <td>20</td>\n",
       "      <td>11</td>\n",
       "      <td>7</td>\n",
       "      <td>70</td>\n",
       "      <td>34</td>\n",
       "      <td>71</td>\n",
       "      <td>39553</td>\n",
       "      <td>Robbie Fowler - 28</td>\n",
       "      <td>David James</td>\n",
       "      <td>1996</td>\n",
       "      <td>36</td>\n",
       "    </tr>\n",
       "    <tr>\n",
       "      <th>3</th>\n",
       "      <td>4</td>\n",
       "      <td>Aston Villa</td>\n",
       "      <td>38</td>\n",
       "      <td>18</td>\n",
       "      <td>9</td>\n",
       "      <td>11</td>\n",
       "      <td>52</td>\n",
       "      <td>35</td>\n",
       "      <td>63</td>\n",
       "      <td>37492</td>\n",
       "      <td>Dwight Yorke - 17</td>\n",
       "      <td>Mark Bosnich</td>\n",
       "      <td>1996</td>\n",
       "      <td>17</td>\n",
       "    </tr>\n",
       "    <tr>\n",
       "      <th>4</th>\n",
       "      <td>5</td>\n",
       "      <td>Arsenal</td>\n",
       "      <td>38</td>\n",
       "      <td>17</td>\n",
       "      <td>12</td>\n",
       "      <td>9</td>\n",
       "      <td>49</td>\n",
       "      <td>32</td>\n",
       "      <td>63</td>\n",
       "      <td>32614</td>\n",
       "      <td>Ian Wright - 15</td>\n",
       "      <td>David Seaman</td>\n",
       "      <td>1996</td>\n",
       "      <td>17</td>\n",
       "    </tr>\n",
       "    <tr>\n",
       "      <th>...</th>\n",
       "      <td>...</td>\n",
       "      <td>...</td>\n",
       "      <td>...</td>\n",
       "      <td>...</td>\n",
       "      <td>...</td>\n",
       "      <td>...</td>\n",
       "      <td>...</td>\n",
       "      <td>...</td>\n",
       "      <td>...</td>\n",
       "      <td>...</td>\n",
       "      <td>...</td>\n",
       "      <td>...</td>\n",
       "      <td>...</td>\n",
       "      <td>...</td>\n",
       "    </tr>\n",
       "    <tr>\n",
       "      <th>495</th>\n",
       "      <td>16</td>\n",
       "      <td>West Ham</td>\n",
       "      <td>38</td>\n",
       "      <td>10</td>\n",
       "      <td>9</td>\n",
       "      <td>19</td>\n",
       "      <td>49</td>\n",
       "      <td>62</td>\n",
       "      <td>39</td>\n",
       "      <td>44155</td>\n",
       "      <td>Michail Antonio - 10</td>\n",
       "      <td>Łukasz Fabiański</td>\n",
       "      <td>2020</td>\n",
       "      <td>-13</td>\n",
       "    </tr>\n",
       "    <tr>\n",
       "      <th>496</th>\n",
       "      <td>17</td>\n",
       "      <td>Aston Villa</td>\n",
       "      <td>38</td>\n",
       "      <td>9</td>\n",
       "      <td>8</td>\n",
       "      <td>21</td>\n",
       "      <td>41</td>\n",
       "      <td>67</td>\n",
       "      <td>35</td>\n",
       "      <td>28505</td>\n",
       "      <td>Jack Grealish - 8</td>\n",
       "      <td>Tom Heaton</td>\n",
       "      <td>2020</td>\n",
       "      <td>-26</td>\n",
       "    </tr>\n",
       "    <tr>\n",
       "      <th>497</th>\n",
       "      <td>18</td>\n",
       "      <td>Bournemouth</td>\n",
       "      <td>38</td>\n",
       "      <td>9</td>\n",
       "      <td>7</td>\n",
       "      <td>22</td>\n",
       "      <td>40</td>\n",
       "      <td>65</td>\n",
       "      <td>34</td>\n",
       "      <td>7745</td>\n",
       "      <td>Callum Wilson - 8</td>\n",
       "      <td>Aaron Ramsdale</td>\n",
       "      <td>2020</td>\n",
       "      <td>-25</td>\n",
       "    </tr>\n",
       "    <tr>\n",
       "      <th>498</th>\n",
       "      <td>19</td>\n",
       "      <td>Watford</td>\n",
       "      <td>38</td>\n",
       "      <td>8</td>\n",
       "      <td>10</td>\n",
       "      <td>20</td>\n",
       "      <td>36</td>\n",
       "      <td>64</td>\n",
       "      <td>34</td>\n",
       "      <td>15353</td>\n",
       "      <td>Troy Deeney - 10</td>\n",
       "      <td>Ben Foster</td>\n",
       "      <td>2020</td>\n",
       "      <td>-28</td>\n",
       "    </tr>\n",
       "    <tr>\n",
       "      <th>499</th>\n",
       "      <td>20</td>\n",
       "      <td>Norwich City</td>\n",
       "      <td>38</td>\n",
       "      <td>5</td>\n",
       "      <td>6</td>\n",
       "      <td>27</td>\n",
       "      <td>26</td>\n",
       "      <td>75</td>\n",
       "      <td>21</td>\n",
       "      <td>19913</td>\n",
       "      <td>Teemu Pukki - 11</td>\n",
       "      <td>Tim Krul</td>\n",
       "      <td>2020</td>\n",
       "      <td>-49</td>\n",
       "    </tr>\n",
       "  </tbody>\n",
       "</table>\n",
       "<p>500 rows × 14 columns</p>\n",
       "</div>"
      ],
      "text/plain": [
       "     Rk           Squad  MP   W   D   L  GF  GA  Pts  Attendance  \\\n",
       "0     1  Manchester Utd  38  25   7   6  73  35   82       41001   \n",
       "1     2   Newcastle Utd  38  24   6   8  66  37   78       36501   \n",
       "2     3       Liverpool  38  20  11   7  70  34   71       39553   \n",
       "3     4     Aston Villa  38  18   9  11  52  35   63       37492   \n",
       "4     5         Arsenal  38  17  12   9  49  32   63       32614   \n",
       "..   ..             ...  ..  ..  ..  ..  ..  ..  ...         ...   \n",
       "495  16        West Ham  38  10   9  19  49  62   39       44155   \n",
       "496  17     Aston Villa  38   9   8  21  41  67   35       28505   \n",
       "497  18     Bournemouth  38   9   7  22  40  65   34        7745   \n",
       "498  19         Watford  38   8  10  20  36  64   34       15353   \n",
       "499  20    Norwich City  38   5   6  27  26  75   21       19913   \n",
       "\n",
       "          Top Team Scorer        Goalkeeper  Year  GD  \n",
       "0       Eric Cantona - 14  Peter Schmeichel  1996  38  \n",
       "1      Les Ferdinand - 25      Shaka Hislop  1996  29  \n",
       "2      Robbie Fowler - 28       David James  1996  36  \n",
       "3       Dwight Yorke - 17      Mark Bosnich  1996  17  \n",
       "4         Ian Wright - 15      David Seaman  1996  17  \n",
       "..                    ...               ...   ...  ..  \n",
       "495  Michail Antonio - 10  Łukasz Fabiański  2020 -13  \n",
       "496     Jack Grealish - 8        Tom Heaton  2020 -26  \n",
       "497     Callum Wilson - 8    Aaron Ramsdale  2020 -25  \n",
       "498      Troy Deeney - 10        Ben Foster  2020 -28  \n",
       "499      Teemu Pukki - 11          Tim Krul  2020 -49  \n",
       "\n",
       "[500 rows x 14 columns]"
      ]
     },
     "execution_count": 7,
     "metadata": {},
     "output_type": "execute_result"
    }
   ],
   "source": [
    "df"
   ]
  },
  {
   "cell_type": "code",
   "execution_count": 8,
   "id": "14c8c8e7",
   "metadata": {},
   "outputs": [],
   "source": [
    "y = df.Rk\n",
    "x = df.GD.values.reshape(-1,1)"
   ]
  },
  {
   "cell_type": "code",
   "execution_count": 9,
   "id": "d6e6c0cf",
   "metadata": {},
   "outputs": [
    {
     "name": "stdout",
     "output_type": "stream",
     "text": [
      "(500, 1) (500,)\n"
     ]
    }
   ],
   "source": [
    "print(x.shape, y.shape)"
   ]
  },
  {
   "cell_type": "code",
   "execution_count": 10,
   "id": "453f87d8",
   "metadata": {},
   "outputs": [],
   "source": [
    "model = LinearRegression().fit(x,y)"
   ]
  },
  {
   "cell_type": "code",
   "execution_count": 15,
   "id": "d08ffd4c",
   "metadata": {},
   "outputs": [],
   "source": [
    "r_sq = model.score(x,y)\n",
    "intercept = model.intercept_\n",
    "slope = model.coef_"
   ]
  },
  {
   "cell_type": "code",
   "execution_count": 14,
   "id": "958496e5",
   "metadata": {},
   "outputs": [
    {
     "name": "stdout",
     "output_type": "stream",
     "text": [
      "0.8384102509297338\n"
     ]
    }
   ],
   "source": [
    "print(r_sq)"
   ]
  },
  {
   "cell_type": "code",
   "execution_count": 16,
   "id": "d08b58b1",
   "metadata": {},
   "outputs": [],
   "source": [
    "y_pred = intercept + slope*x"
   ]
  },
  {
   "cell_type": "code",
   "execution_count": 23,
   "id": "e65b21e4",
   "metadata": {},
   "outputs": [
    {
     "data": {
      "text/plain": [
       "Text(0.5, 1.0, 'Evaluating the relationship between goal differential and league rank')"
      ]
     },
     "execution_count": 23,
     "metadata": {},
     "output_type": "execute_result"
    },
    {
     "data": {
      "image/png": "[encoded data removed]",
      "text/plain": [
       "<Figure size 1000x1000 with 1 Axes>"
      ]
     },
     "metadata": {},
     "output_type": "display_data"
    }
   ],
   "source": [
    "fig, ax = plt.subplots(figsize=(10,10))\n",
    "\n",
    "plt.scatter(x,y)\n",
    "\n",
    "plt.plot(x,y_pred,c='red')\n",
    "\n",
    "\n",
    "plt.ylim(.5, 20.5)\n",
    "plt.yticks([1,2,3,4,5,6,7,8,9,10,11,12,13,14,15,16,17,18,19,20])\n",
    "plt.gca().invert_yaxis()\n",
    "\n",
    "plt.xlabel('Goal Differential')\n",
    "plt.ylabel('League Rank')\n",
    "plt.title('Evaluating the relationship between goal differential and league rank')"
   ]
  },
  {
   "cell_type": "code",
   "execution_count": null,
   "id": "5f478c29",
   "metadata": {},
   "outputs": [],
   "source": []
  }
 ],
 "metadata": {
  "kernelspec": {
   "display_name": "Python 3 (ipykernel)",
   "language": "python",
   "name": "python3"
  },
  "language_info": {
   "codemirror_mode": {
    "name": "ipython",
    "version": 3
   },
   "file_extension": ".py",
   "mimetype": "text/x-python",
   "name": "python",
   "nbconvert_exporter": "python",
   "pygments_lexer": "ipython3",
   "version": "3.9.13"
  }
 },
 "nbformat": 4,
 "nbformat_minor": 5
}
